{
  "nbformat": 4,
  "nbformat_minor": 0,
  "metadata": {
    "colab": {
      "name": "Python OOP Uygulamaları.ipynb",
      "provenance": [],
      "authorship_tag": "ABX9TyPhsUuqk1fa1rQvwB52i7eo",
      "include_colab_link": true
    },
    "kernelspec": {
      "name": "python3",
      "display_name": "Python 3"
    },
    "language_info": {
      "name": "python"
    }
  },
  "cells": [
    {
      "cell_type": "markdown",
      "metadata": {
        "id": "view-in-github",
        "colab_type": "text"
      },
      "source": [
        "<a href=\"https://colab.research.google.com/github/DilaraBetul/Python-OOP-Uygulamalar-/blob/main/Python_OOP_Uygulamalar%C4%B1.ipynb\" target=\"_parent\"><img src=\"https://colab.research.google.com/assets/colab-badge.svg\" alt=\"Open In Colab\"/></a>"
      ]
    },
    {
      "cell_type": "markdown",
      "source": [
        "# **1)Girilen metindeki sesli harfleri bulan kod**\n"
      ],
      "metadata": {
        "id": "6Wby5o0hJIxd"
      }
    },
    {
      "cell_type": "markdown",
      "source": [
        "1.Kod"
      ],
      "metadata": {
        "id": "fyczVODWJsoI"
      }
    },
    {
      "cell_type": "code",
      "source": [
        "sesli_harfler=\"aeıioöuü\"\n",
        "sayac=0\n",
        "\n",
        "kelime=input(\"lütfen bir kelime giriniz:\")\n",
        "for harf in kelime:\n",
        "  if harf in sesli_harfler:\n",
        "    sayac+=1\n",
        "print(\"{} içinde {} sayıda sesli harf vardır\".format(kelime,sayac))    \n"
      ],
      "metadata": {
        "id": "MHrNkxBXJlrD"
      },
      "execution_count": null,
      "outputs": []
    },
    {
      "cell_type": "markdown",
      "source": [
        "2.Kod"
      ],
      "metadata": {
        "id": "vPApCsRYJ5m-"
      }
    },
    {
      "cell_type": "code",
      "source": [
        "sesli_harfler=\"aeıioöuü\"\n",
        "sayac=0\n",
        "\n",
        "kelime=input(\"lütfen bir kelime giriniz:\") \n",
        "\n",
        "def sayi():\n",
        "  global sayac\n",
        "  for harf in kelime:\n",
        "    if harf in sesli_harfler:\n",
        "     sayac+=1\n",
        "  return sayac  \n",
        "\n",
        "print(\"{} içinde {} sayıda sesli harf vardır\".format(kelime,sayi()))"
      ],
      "metadata": {
        "id": "x3l-sS2gJ8Qu"
      },
      "execution_count": null,
      "outputs": []
    },
    {
      "cell_type": "markdown",
      "source": [
        "3.Kod"
      ],
      "metadata": {
        "id": "ZiaZsbJBKBYY"
      }
    },
    {
      "cell_type": "code",
      "source": [
        "sesli_harfler=\"aeıioöuü\"\n",
        "sayac=0\n",
        "\n",
        "def kelime_sor():\n",
        "  return input(\"lütfen bir kelime giriniz:\")\n",
        "\n",
        "def sayi(sayac,kelime):\n",
        "   for harf in kelime:\n",
        "     if harf in sesli_harfler:\n",
        "        sayac+=1\n",
        "   return sayac\n",
        "\n",
        "def ekrana_yazdir(kelime):\n",
        "   print(\"{} içinde {} sayıda sesli harf vardır\".format(kelime,sayi(sayac,kelime)))\n",
        "\n",
        "def calistir():\n",
        "  kelime=kelime_sor()\n",
        "  ekrana_yazdir(kelime)\n",
        "\n",
        "calistir()"
      ],
      "metadata": {
        "id": "XxV4P9VlKQaw"
      },
      "execution_count": null,
      "outputs": []
    },
    {
      "cell_type": "markdown",
      "source": [
        "4.Kod"
      ],
      "metadata": {
        "id": "NU04Q3mBKRb7"
      }
    },
    {
      "cell_type": "code",
      "source": [
        "class HarfSayacı:\n",
        "    def __init__(self):\n",
        "        self.sesli_harfler = 'aeıioöuü'\n",
        "        self.sayaç = 0\n",
        "\n",
        "    def kelime_sor(self):\n",
        "        return input('Bir kelime girin: ')\n",
        "\n",
        "    def seslidir(self, harf):\n",
        "        return harf in self.sesli_harfler\n",
        "\n",
        "    def artır(self):\n",
        "        for harf in self.kelime:\n",
        "            if self.seslidir(harf):\n",
        "                self.sayaç += 1\n",
        "        return self.sayaç\n",
        "\n",
        "    def ekrana_bas(self):\n",
        "        mesaj = \"{} kelimesinde {} sesli harf var.\"\n",
        "        sesli_harf_sayısı = self.artır()\n",
        "        print(mesaj.format(self.kelime, sesli_harf_sayısı))\n",
        "\n",
        "    def çalıştır(self):\n",
        "        self.kelime = self.kelime_sor()\n",
        "        self.ekrana_bas()\n",
        "\n",
        "if __name__ == '__main__':\n",
        "    sayaç = HarfSayacı()\n",
        "    sayaç.çalıştır()"
      ],
      "metadata": {
        "id": "1SD2eDznKS6E"
      },
      "execution_count": null,
      "outputs": []
    },
    {
      "cell_type": "markdown",
      "source": [
        "# **2)Girilen metinde sesli ve sessiz harf bulan kod**"
      ],
      "metadata": {
        "id": "4rDWSuJ9KYYo"
      }
    },
    {
      "cell_type": "code",
      "source": [
        "class HarfSayacı:\n",
        "    def __init__(self):\n",
        "        self.sesli_harfler = 'aeıioöuü'\n",
        "        self.sessiz_harfler = 'bcçdfgğhjklmnprsştvyz'\n",
        "        self.sayaç_sesli = 0\n",
        "        self.sayaç_sessiz = 0\n",
        "\n",
        "    def kelime_sor(self):\n",
        "        return input('Bir kelime girin: ')\n",
        "\n",
        "    def seslidir(self, harf):\n",
        "        return harf in self.sesli_harfler\n",
        "\n",
        "    def sessizdir(self, harf):\n",
        "        return harf in self.sessiz_harfler\n",
        "\n",
        "    def artır(self):\n",
        "        for harf in self.kelime:\n",
        "            if self.seslidir(harf):\n",
        "                self.sayaç_sesli += 1\n",
        "            if self.sessizdir(harf):\n",
        "                self.sayaç_sessiz += 1\n",
        "        return (self.sayaç_sesli, self.sayaç_sessiz)\n",
        "\n",
        "    def ekrana_bas(self):\n",
        "        sesli, sessiz = self.artır()\n",
        "        mesaj = \"{} kelimesinde {} sesli {} sessiz harf var.\"\n",
        "        print(mesaj.format(self.kelime, sesli, sessiz))\n",
        "\n",
        "    def çalıştır(self):\n",
        "        self.kelime = self.kelime_sor()\n",
        "        self.ekrana_bas()\n",
        "\n",
        "if __name__ == '__main__':\n",
        "    sayaç = HarfSayacı()\n",
        "    sayaç.çalıştır()"
      ],
      "metadata": {
        "id": "UwVxGqqkKl5T"
      },
      "execution_count": null,
      "outputs": []
    },
    {
      "cell_type": "markdown",
      "source": [
        "# **3)Rakibe karşı yapılacak hamleleri seçebildiğin, seçtiğin hamleye göre random sonuca göre kazananın belirlendiği oyun**"
      ],
      "metadata": {
        "id": "lUMpPPGwKraD"
      }
    },
    {
      "cell_type": "code",
      "source": [
        "import time\n",
        "import random\n",
        "import sys\n",
        "\n",
        "class Oyuncu():\n",
        "    def __init__(self, isim, can=5, enerji=10):\n",
        "        self.isim = isim\n",
        "        self.darbe = 0\n",
        "        self.can = can\n",
        "        self.enerji = enerji\n",
        "\n",
        "    def mevcut_durumu_gör(self):\n",
        "        print('darbe: ', self.darbe)\n",
        "        print('can: ', self.can)\n",
        "        print('enerji: ', self.enerji)\n",
        "\n",
        "    def saldır(self, rakip):\n",
        "        print('Bir saldırı gerçekleştirdiniz.')\n",
        "        print('Saldırı devam ediyor. Bekleyiniz.')\n",
        "\n",
        "        for i in range(10):\n",
        "            time.sleep(.3)\n",
        "            print('.', end='', flush=True)\n",
        "\n",
        "        sonuç = self.saldırı_sonucunu_hesapla()\n",
        "\n",
        "        if sonuç == 0:\n",
        "            print('\\nSONUÇ: kazanan taraf yok')\n",
        "\n",
        "        if sonuç == 1:\n",
        "            print('\\nSONUÇ: rakibinizi darbelediniz')\n",
        "            self.darbele(rakip)\n",
        "\n",
        "        if sonuç == 2:\n",
        "            print('\\nSONUÇ: rakibinizden darbe aldınız')\n",
        "            rakip.darbele(self)\n",
        "\n",
        "    def saldırı_sonucunu_hesapla(self):\n",
        "         return random.randint(0, 2)\n",
        "\n",
        "    def kaç(self):\n",
        "        print('Kaçılıyor...')\n",
        "        for i in range(10):\n",
        "            time.sleep(.3)\n",
        "            print('\\n', flush=True)\n",
        "\n",
        "        print('Rakibiniz sizi yakaladı')\n",
        "\n",
        "    def darbele(self, darbelenen):\n",
        "        darbelenen.darbe += 1\n",
        "        darbelenen.enerji -= 1\n",
        "        if (darbelenen.darbe % 2) == 0:\n",
        "            darbelenen.can -= 1\n",
        "        if darbelenen.can < 1:\n",
        "            darbelenen.enerji = 0\n",
        "            print('Oyunu {} kazandı! TEBRİKLER!!!'.format(self.isim))\n",
        "            self.oyundan_çık()\n",
        "\n",
        "    def oyundan_çık(self):\n",
        "        print('Çıkılıyor...')\n",
        "        sys.exit()\n",
        "\n",
        "\n",
        "# Oyuncuları belirleyelim\n",
        "siz = Oyuncu('Siz')\n",
        "rakip = Oyuncu('Rakibiniz')\n",
        "\n",
        "\n",
        "# Oyun başlangıcı\n",
        "while True:\n",
        "    print('Şu anda rakibinizle karşı karşıyasınız.',\n",
        "          'Yapmak istediğiniz hamle: ',\n",
        "          'Saldır:  s',\n",
        "          'Kaç:     k',\n",
        "          'Çık:     q', sep='\\n')\n",
        "\n",
        "    hamle = input('\\n> ')\n",
        "    if hamle == 's':\n",
        "        siz.saldır(rakip)\n",
        "\n",
        "        print('Rakibinizin son durumu')\n",
        "        rakip.mevcut_durumu_gör()\n",
        "\n",
        "        print('Sizin son durumunuz')\n",
        "        siz.mevcut_durumu_gör()\n",
        "\n",
        "    if hamle == 'k':\n",
        "        siz.kaç()\n",
        "\n",
        "    if hamle == 'q':\n",
        "        siz.oyundan_çık()"
      ],
      "metadata": {
        "id": "KPXdL4U6K7zW"
      },
      "execution_count": null,
      "outputs": []
    }
  ]
}